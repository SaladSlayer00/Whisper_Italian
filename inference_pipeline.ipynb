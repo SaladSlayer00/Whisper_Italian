{
 "cells": [
  {
   "cell_type": "code",
   "execution_count": null,
   "outputs": [],
   "source": [
    "!pip install gradio\n",
    "!pip install sentencepiece\n",
    "!pip install pytube\n",
    "!pip install soundfile\n",
    "!pip install datasets\n",
    "!pip install transformers\n",
    "!pip install torch\n",
    "!pip install gtts\n",
    "!pip install pdfminer\n",
    "!pip install pdfminer-six\n",
    "!pip install fpdf"
   ],
   "metadata": {
    "collapsed": false
   }
  },
  {
   "cell_type": "code",
   "execution_count": null,
   "outputs": [],
   "source": [
    "from huggingface_hub import notebook_login\n",
    "\n",
    "notebook_login()"
   ],
   "metadata": {
    "collapsed": false
   }
  },
  {
   "cell_type": "code",
   "execution_count": null,
   "outputs": [],
   "source": [
    "!git clone https://huggingface.co/spaces/SaladSlayer00/app"
   ],
   "metadata": {
    "collapsed": false
   }
  },
  {
   "cell_type": "code",
   "execution_count": null,
   "outputs": [],
   "source": [
    "import gradio as gr\n",
    "import pytube as pt\n",
    "from transformers import pipeline\n",
    "import os\n",
    "from huggingface_hub import HfFolder\n",
    "from gtts import gTTS\n",
    "from fpdf import FPDF\n",
    "from pdfminer.high_level import extract_text\n",
    "\n",
    "\n",
    "# Initialize pipelines for transcription, summarization, and translation\n",
    "transcription_pipe = pipeline(model=\"SaladSlayer00/another_local\", token=HfFolder.get_token())\n",
    "summarizer = pipeline(\"summarization\", model=\"it5/it5-efficient-small-el32-news-summarization\")\n",
    "translator = pipeline(\"translation\", model=\"Helsinki-NLP/opus-mt-it-en\")\n",
    "\n",
    "def process_audio(file_path):\n",
    "    text = transcription_pipe(file_path)[\"text\"]\n",
    "    summary = summarizer(text, min_length=25, max_length=50)[0][\"summary_text\"]\n",
    "    translation = translator(text)[0][\"translation_text\"]\n",
    "    return text, summary, translation\n",
    "\n",
    "def download_youtube_audio(yt_url):\n",
    "    yt = pt.YouTube(yt_url)\n",
    "    stream = yt.streams.filter(only_audio=True).first()\n",
    "    file_path = stream.download(filename=\"temp_audio.mp3\")\n",
    "    return file_path\n",
    "\n",
    "def youtube_transcription(yt_url):\n",
    "    audio_path = download_youtube_audio(yt_url)\n",
    "    results = process_audio(audio_path)\n",
    "    os.remove(audio_path)  # Clean up the downloaded file\n",
    "    return results\n",
    "\n",
    "def transcribe_and_process(rec=None, file=None):\n",
    "    if rec is not None:\n",
    "        audio = rec\n",
    "    elif file is not None:\n",
    "        audio = file\n",
    "    else:\n",
    "        return \"Provide a recording or a file.\"\n",
    "\n",
    "    return process_audio(audio)\n",
    "\n",
    "def save_text_to_pdf(text, filename=\"output.pdf\"):\n",
    "    # Create instance of FPDF class\n",
    "    pdf = FPDF()\n",
    "\n",
    "    # Add a page\n",
    "    pdf.add_page()\n",
    "\n",
    "    # Set font: Arial, bold, 12\n",
    "    pdf.set_font(\"Arial\", size=12)\n",
    "\n",
    "    # Add a cell\n",
    "    pdf.multi_cell(0, 10, text)\n",
    "\n",
    "    # Save the pdf with name .pdf\n",
    "    pdf.output(filename)\n",
    "\n",
    "    return filename\n",
    "\n",
    "\n",
    "def pdf_to_text(file_path):\n",
    "    text = extract_text(file_path)\n",
    "    audio_file = \"tts_audio.wav\"\n",
    "    myobj = gTTS(text=text, lang='en', slow=False)\n",
    "    myobj.save(audio_file)\n",
    "    return audio_file\n",
    "\n",
    "def audio_to_pdf(file_path):\n",
    "    text, summary, translation = process_audio(file_path)\n",
    "    pdf_file = save_text_to_pdf(translation)\n",
    "    tts_audio_file = pdf_to_text(pdf_file)  # Generate TTS audio from the PDF\n",
    "    return translation, pdf_file, tts_audio_file\n",
    "\n",
    "def pdf_to_audio(file_path):\n",
    "    text = extract_text(file_path)\n",
    "    myobj = gTTS(text=text, lang='en', slow=False)\n",
    "    audio_file = \"output_audio.wav\"\n",
    "    myobj.save(audio_file)\n",
    "    return audio_file\n",
    "\n",
    "app = gr.Blocks()\n",
    "\n",
    "with app:\n",
    "    gr.Markdown(\"### Whisper Small Italian Transcription, Summarization, and Translation\")\n",
    "    gr.Markdown(\"Talk, upload an audio file or enter a YouTube URL for processing.\")\n",
    "\n",
    "    with gr.Tab(\"Audio Processing\"):\n",
    "        gr.Markdown(\"### Example Audio Files\")\n",
    "        gr.Audio(\"La_Casa.mp3\", label=\"Short Audio 1\")\n",
    "        gr.Audio(\"La_Neve.mp3\", label=\"Short Audio 2\")\n",
    "        gr.Audio(\"La_Lettera.mp3\", label=\"Long Audio 3\")\n",
    "        gr.Audio(\"Le_Feste.mp3\", label=\"Long Audio 4\")\n",
    "        with gr.Row():\n",
    "            audio_input = gr.Audio(label=\"Upload Audio or Record\", type=\"filepath\")\n",
    "            audio_process_button = gr.Button(\"Process Audio\")\n",
    "        audio_transcription, audio_summary, audio_translation = gr.Textbox(label=\"Transcription\"), gr.Textbox(label=\"Summary\"), gr.Textbox(label=\"Translation\")\n",
    "        audio_process_button.click(fn=transcribe_and_process, inputs=audio_input, outputs=[audio_transcription, audio_summary, audio_translation])\n",
    "\n",
    "\n",
    "    with gr.Tab(\"YouTube Processing\"):\n",
    "        gr.Markdown(\"### Example YouTube URLs\")\n",
    "        gr.Markdown(\"1. [The House](https://www.youtube.com/watch?v=Is6nHH43rnQ)\")\n",
    "        gr.Markdown(\"2. [Introduction](https://www.youtube.com/watch?v=l_p0UVsdc6A)\")\n",
    "        gr.Markdown(\"3. [Where Are You From?](https://www.youtube.com/watch?v=4QobTwKT_Xc)\")\n",
    "        gr.Markdown(\"4. [The Colors](https://www.youtube.com/watch?v=HsSLwV1yEjc)\")\n",
    "        with gr.Row():\n",
    "            yt_input = gr.Textbox(label=\"YouTube URL\")\n",
    "            yt_process_button = gr.Button(\"Process YouTube Video\")\n",
    "        yt_transcription, yt_summary, yt_translation = gr.Textbox(label=\"Transcription\"), gr.Textbox(label=\"Summary\"), gr.Textbox(label=\"Translation\")\n",
    "        yt_process_button.click(fn=youtube_transcription, inputs=yt_input, outputs=[yt_transcription, yt_summary, yt_translation])\n",
    "\n",
    "    with gr.Tab(\"Italian Audio to English PDF\"):\n",
    "        gr.Markdown(\"### Example Audio Files\")\n",
    "        gr.Audio(\"La_Casa.mp3\", label=\"Short Audio 1\")\n",
    "        gr.Audio(\"La_Neve.mp3\", label=\"Short Audio 2\")\n",
    "        gr.Audio(\"La_Lettera.mp3\", label=\"Long Audio 3\")\n",
    "        gr.Audio(\"Le_Feste.mp3\", label=\"Long Audio 4\")\n",
    "        with gr.Row():\n",
    "            audio_input = gr.Audio(label=\"Upload Italian Audio\", type=\"filepath\")\n",
    "            translate_process_button = gr.Button(\"Translate and Save as PDF\")\n",
    "        translation_textbox, pdf_download, tts_audio = gr.Textbox(label=\"Translation\"), gr.File(label=\"Download PDF\"), gr.Audio(label=\"TTS Audio\")\n",
    "        translate_process_button.click(fn=audio_to_pdf, inputs=audio_input, outputs=[translation_textbox, pdf_download, tts_audio])\n",
    "\n",
    "\n",
    "(app.launch())"
   ],
   "metadata": {
    "collapsed": false
   }
  },
  {
   "cell_type": "code",
   "execution_count": null,
   "outputs": [],
   "source": [
    "!git config --global user.email \"b********a@mail.polimi.it\"\n",
    "!git config --global user.name \"SaladSlayer00\""
   ],
   "metadata": {
    "collapsed": false
   }
  },
  {
   "cell_type": "code",
   "execution_count": null,
   "outputs": [],
   "source": [
    "%cd /content/app\n",
    "!git add *\n",
    "!git commit -m \"the new app with translation support, youtube and summarizaiton, pdf, tts\"\n",
    "!git push\n",
    "%cd .."
   ],
   "metadata": {
    "collapsed": false
   }
  },
  {
   "cell_type": "code",
   "execution_count": null,
   "outputs": [],
   "source": [],
   "metadata": {
    "collapsed": false
   }
  }
 ],
 "metadata": {
  "kernelspec": {
   "display_name": "Python 3",
   "language": "python",
   "name": "python3"
  },
  "language_info": {
   "codemirror_mode": {
    "name": "ipython",
    "version": 2
   },
   "file_extension": ".py",
   "mimetype": "text/x-python",
   "name": "python",
   "nbconvert_exporter": "python",
   "pygments_lexer": "ipython2",
   "version": "2.7.6"
  }
 },
 "nbformat": 4,
 "nbformat_minor": 0
}
